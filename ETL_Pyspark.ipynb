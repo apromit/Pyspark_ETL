{
 "cells": [
  {
   "cell_type": "markdown",
   "id": "fa360d67-cc89-457c-80ee-a0175885b13f",
   "metadata": {},
   "source": [
    "## All necesaary Imports"
   ]
  },
  {
   "cell_type": "code",
   "execution_count": 1,
   "id": "aae5dacb-c953-4717-bb7f-05c9849d0668",
   "metadata": {},
   "outputs": [],
   "source": [
    "from pyspark.sql import *\n",
    "from pyspark.sql.functions import *\n",
    "from datetime import date"
   ]
  },
  {
   "cell_type": "code",
   "execution_count": 2,
   "id": "26bfc349-db65-4a98-be3b-4507335bef60",
   "metadata": {},
   "outputs": [],
   "source": [
    "spark = SparkSession.builder \\\n",
    "        .appName('ETL_Pyspark') \\\n",
    "        .master(\"local[3]\") \\\n",
    "        .getOrCreate()"
   ]
  },
  {
   "cell_type": "markdown",
   "id": "88abe243-d222-4aa7-a7e0-c810f60e013e",
   "metadata": {},
   "source": [
    "## Reading using Pyspark"
   ]
  },
  {
   "cell_type": "code",
   "execution_count": 3,
   "id": "4216065f-23a2-4aa7-ba8f-0eef732e00b6",
   "metadata": {},
   "outputs": [],
   "source": [
    "dframe = spark.read.csv('source_file/raw/orders.csv',header=True)"
   ]
  },
  {
   "cell_type": "code",
   "execution_count": 4,
   "id": "9a14659f-81e4-461b-84f4-4be6d59fef27",
   "metadata": {},
   "outputs": [
    {
     "name": "stdout",
     "output_type": "stream",
     "text": [
      "root\n",
      " |-- Order Id: string (nullable = true)\n",
      " |-- Order Date: string (nullable = true)\n",
      " |-- Ship Mode: string (nullable = true)\n",
      " |-- Segment: string (nullable = true)\n",
      " |-- Country: string (nullable = true)\n",
      " |-- City: string (nullable = true)\n",
      " |-- State: string (nullable = true)\n",
      " |-- Postal Code: string (nullable = true)\n",
      " |-- Region: string (nullable = true)\n",
      " |-- Category: string (nullable = true)\n",
      " |-- Sub Category: string (nullable = true)\n",
      " |-- Product Id: string (nullable = true)\n",
      " |-- cost price: string (nullable = true)\n",
      " |-- List Price: string (nullable = true)\n",
      " |-- Quantity: string (nullable = true)\n",
      " |-- Discount Percent: string (nullable = true)\n",
      "\n"
     ]
    }
   ],
   "source": [
    "dframe.printSchema()"
   ]
  },
  {
   "cell_type": "markdown",
   "id": "6ecaddfc-992e-480c-9c68-fc11938cb932",
   "metadata": {},
   "source": [
    "## Replaced Ship mode 2 values with null"
   ]
  },
  {
   "cell_type": "code",
   "execution_count": 5,
   "id": "3ef01031-a63a-42a8-bca4-88d59740955a",
   "metadata": {},
   "outputs": [],
   "source": [
    "dframe = dframe.withColumn('Ship Mode',when((dframe['Ship Mode']=='unknown'),None).when((dframe['Ship Mode']=='Not Available'),None).otherwise(dframe['Ship Mode']))"
   ]
  },
  {
   "cell_type": "code",
   "execution_count": 6,
   "id": "205025de-c15b-4c3c-abaf-23681ca3ecfd",
   "metadata": {},
   "outputs": [
    {
     "name": "stdout",
     "output_type": "stream",
     "text": [
      "+--------------+\n",
      "|     Ship Mode|\n",
      "+--------------+\n",
      "|   First Class|\n",
      "|      Same Day|\n",
      "|           N/A|\n",
      "|  Second Class|\n",
      "|Standard Class|\n",
      "|          NULL|\n",
      "+--------------+\n",
      "\n"
     ]
    }
   ],
   "source": [
    "dframe.select(col('Ship Mode')).distinct().show()"
   ]
  },
  {
   "cell_type": "markdown",
   "id": "9dc33aa6-8ac9-4f89-9f35-a7e7851f7ec2",
   "metadata": {},
   "source": [
    "## Conversion of Columns name to lowercase"
   ]
  },
  {
   "cell_type": "code",
   "execution_count": 7,
   "id": "b796f23b-17ea-41c0-8ba3-90096493acf7",
   "metadata": {},
   "outputs": [],
   "source": [
    "temp_list=[]\n",
    "for var1 in dframe.columns:\n",
    "    var1 = var1.lower()\n",
    "    var1 = var1.replace(' ','_')\n",
    "    temp_list.append(var1)\n",
    "\n",
    "for var2 in range(len(dframe.columns)):\n",
    "    dframe = dframe.withColumnRenamed(dframe.columns[var2],temp_list[var2])"
   ]
  },
  {
   "cell_type": "code",
   "execution_count": 8,
   "id": "a19fa923-dbc7-4293-b338-975cb85a9c03",
   "metadata": {},
   "outputs": [
    {
     "name": "stdout",
     "output_type": "stream",
     "text": [
      "+--------+----------+--------------+---------+-------------+---------------+----------+-----------+------+---------------+------------+---------------+----------+----------+--------+----------------+\n",
      "|order_id|order_date|     ship_mode|  segment|      country|           city|     state|postal_code|region|       category|sub_category|     product_id|cost_price|list_price|quantity|discount_percent|\n",
      "+--------+----------+--------------+---------+-------------+---------------+----------+-----------+------+---------------+------------+---------------+----------+----------+--------+----------------+\n",
      "|       1|2023-03-01|  Second Class| Consumer|United States|      Henderson|  Kentucky|      42420| South|      Furniture|   Bookcases|FUR-BO-10001798|       240|       260|       2|               2|\n",
      "|       2|2023-08-15|  Second Class| Consumer|United States|      Henderson|  Kentucky|      42420| South|      Furniture|      Chairs|FUR-CH-10000454|       600|       730|       3|               3|\n",
      "|       3|2023-01-10|  Second Class|Corporate|United States|    Los Angeles|California|      90036|  West|Office Supplies|      Labels|OFF-LA-10000240|        10|        10|       2|               5|\n",
      "|       4|2022-06-18|Standard Class| Consumer|United States|Fort Lauderdale|   Florida|      33311| South|      Furniture|      Tables|FUR-TA-10000577|       780|       960|       5|               2|\n",
      "|       5|2022-07-13|Standard Class| Consumer|United States|Fort Lauderdale|   Florida|      33311| South|Office Supplies|     Storage|OFF-ST-10000760|        20|        20|       2|               5|\n",
      "+--------+----------+--------------+---------+-------------+---------------+----------+-----------+------+---------------+------------+---------------+----------+----------+--------+----------------+\n",
      "only showing top 5 rows\n",
      "\n"
     ]
    }
   ],
   "source": [
    "dframe.show(5)"
   ]
  },
  {
   "cell_type": "markdown",
   "id": "bf67c2a3-80ca-48fe-85c4-cd4377526769",
   "metadata": {},
   "source": [
    "## Adding Extra columns for analysis"
   ]
  },
  {
   "cell_type": "markdown",
   "id": "e5f414a3-a46e-4148-a07b-a5be430cac00",
   "metadata": {},
   "source": [
    "### Discount given"
   ]
  },
  {
   "cell_type": "code",
   "execution_count": 9,
   "id": "9573df74-8611-490e-a6d3-9c604f15e418",
   "metadata": {},
   "outputs": [],
   "source": [
    "dframe = dframe.withColumn('discount_given',round((dframe['list_price']*dframe['discount_percent']*0.01),2))"
   ]
  },
  {
   "cell_type": "code",
   "execution_count": 10,
   "id": "8b8f3fee-2d5d-4453-8bfa-73515b12e3a5",
   "metadata": {},
   "outputs": [
    {
     "name": "stdout",
     "output_type": "stream",
     "text": [
      "+--------+----------+--------------+---------+-------------+---------------+----------+-----------+------+---------------+------------+---------------+----------+----------+--------+----------------+--------------+\n",
      "|order_id|order_date|     ship_mode|  segment|      country|           city|     state|postal_code|region|       category|sub_category|     product_id|cost_price|list_price|quantity|discount_percent|discount_given|\n",
      "+--------+----------+--------------+---------+-------------+---------------+----------+-----------+------+---------------+------------+---------------+----------+----------+--------+----------------+--------------+\n",
      "|       1|2023-03-01|  Second Class| Consumer|United States|      Henderson|  Kentucky|      42420| South|      Furniture|   Bookcases|FUR-BO-10001798|       240|       260|       2|               2|           5.2|\n",
      "|       2|2023-08-15|  Second Class| Consumer|United States|      Henderson|  Kentucky|      42420| South|      Furniture|      Chairs|FUR-CH-10000454|       600|       730|       3|               3|          21.9|\n",
      "|       3|2023-01-10|  Second Class|Corporate|United States|    Los Angeles|California|      90036|  West|Office Supplies|      Labels|OFF-LA-10000240|        10|        10|       2|               5|           0.5|\n",
      "|       4|2022-06-18|Standard Class| Consumer|United States|Fort Lauderdale|   Florida|      33311| South|      Furniture|      Tables|FUR-TA-10000577|       780|       960|       5|               2|          19.2|\n",
      "|       5|2022-07-13|Standard Class| Consumer|United States|Fort Lauderdale|   Florida|      33311| South|Office Supplies|     Storage|OFF-ST-10000760|        20|        20|       2|               5|           1.0|\n",
      "+--------+----------+--------------+---------+-------------+---------------+----------+-----------+------+---------------+------------+---------------+----------+----------+--------+----------------+--------------+\n",
      "only showing top 5 rows\n",
      "\n"
     ]
    }
   ],
   "source": [
    "dframe.show(5)"
   ]
  },
  {
   "cell_type": "markdown",
   "id": "7ba8a7f8-1f46-4ac3-994e-e4ca2d23f853",
   "metadata": {},
   "source": [
    "### Sale price"
   ]
  },
  {
   "cell_type": "code",
   "execution_count": 11,
   "id": "fcb41955-dedf-4d70-bf4f-a26dcb4dcf1d",
   "metadata": {},
   "outputs": [],
   "source": [
    "dframe = dframe.withColumn('sale_price',dframe['list_price']-dframe['discount_given'])"
   ]
  },
  {
   "cell_type": "code",
   "execution_count": 12,
   "id": "b221cfe0-ca9b-438b-a54a-6b27708cf830",
   "metadata": {},
   "outputs": [
    {
     "name": "stdout",
     "output_type": "stream",
     "text": [
      "+--------+----------+--------------+---------+-------------+---------------+----------+-----------+------+---------------+------------+---------------+----------+----------+--------+----------------+--------------+----------+\n",
      "|order_id|order_date|     ship_mode|  segment|      country|           city|     state|postal_code|region|       category|sub_category|     product_id|cost_price|list_price|quantity|discount_percent|discount_given|sale_price|\n",
      "+--------+----------+--------------+---------+-------------+---------------+----------+-----------+------+---------------+------------+---------------+----------+----------+--------+----------------+--------------+----------+\n",
      "|       1|2023-03-01|  Second Class| Consumer|United States|      Henderson|  Kentucky|      42420| South|      Furniture|   Bookcases|FUR-BO-10001798|       240|       260|       2|               2|           5.2|     254.8|\n",
      "|       2|2023-08-15|  Second Class| Consumer|United States|      Henderson|  Kentucky|      42420| South|      Furniture|      Chairs|FUR-CH-10000454|       600|       730|       3|               3|          21.9|     708.1|\n",
      "|       3|2023-01-10|  Second Class|Corporate|United States|    Los Angeles|California|      90036|  West|Office Supplies|      Labels|OFF-LA-10000240|        10|        10|       2|               5|           0.5|       9.5|\n",
      "|       4|2022-06-18|Standard Class| Consumer|United States|Fort Lauderdale|   Florida|      33311| South|      Furniture|      Tables|FUR-TA-10000577|       780|       960|       5|               2|          19.2|     940.8|\n",
      "|       5|2022-07-13|Standard Class| Consumer|United States|Fort Lauderdale|   Florida|      33311| South|Office Supplies|     Storage|OFF-ST-10000760|        20|        20|       2|               5|           1.0|      19.0|\n",
      "+--------+----------+--------------+---------+-------------+---------------+----------+-----------+------+---------------+------------+---------------+----------+----------+--------+----------------+--------------+----------+\n",
      "only showing top 5 rows\n",
      "\n"
     ]
    }
   ],
   "source": [
    "dframe.show(5)"
   ]
  },
  {
   "cell_type": "markdown",
   "id": "7d1608ea-95fc-4f21-aadd-6a68db0340b2",
   "metadata": {},
   "source": [
    "### Profit"
   ]
  },
  {
   "cell_type": "code",
   "execution_count": 13,
   "id": "27b9bd2d-2196-421d-a130-74ff17323746",
   "metadata": {},
   "outputs": [],
   "source": [
    "dframe = dframe.withColumn('profit',round((dframe['sale_price']-dframe['cost_price']),2))"
   ]
  },
  {
   "cell_type": "code",
   "execution_count": 14,
   "id": "4ecb86eb-3635-4716-908c-0f3cda3deb31",
   "metadata": {},
   "outputs": [
    {
     "name": "stdout",
     "output_type": "stream",
     "text": [
      "+--------+----------+--------------+---------+-------------+---------------+----------+-----------+------+---------------+------------+---------------+----------+----------+--------+----------------+--------------+----------+------+\n",
      "|order_id|order_date|     ship_mode|  segment|      country|           city|     state|postal_code|region|       category|sub_category|     product_id|cost_price|list_price|quantity|discount_percent|discount_given|sale_price|profit|\n",
      "+--------+----------+--------------+---------+-------------+---------------+----------+-----------+------+---------------+------------+---------------+----------+----------+--------+----------------+--------------+----------+------+\n",
      "|       1|2023-03-01|  Second Class| Consumer|United States|      Henderson|  Kentucky|      42420| South|      Furniture|   Bookcases|FUR-BO-10001798|       240|       260|       2|               2|           5.2|     254.8|  14.8|\n",
      "|       2|2023-08-15|  Second Class| Consumer|United States|      Henderson|  Kentucky|      42420| South|      Furniture|      Chairs|FUR-CH-10000454|       600|       730|       3|               3|          21.9|     708.1| 108.1|\n",
      "|       3|2023-01-10|  Second Class|Corporate|United States|    Los Angeles|California|      90036|  West|Office Supplies|      Labels|OFF-LA-10000240|        10|        10|       2|               5|           0.5|       9.5|  -0.5|\n",
      "|       4|2022-06-18|Standard Class| Consumer|United States|Fort Lauderdale|   Florida|      33311| South|      Furniture|      Tables|FUR-TA-10000577|       780|       960|       5|               2|          19.2|     940.8| 160.8|\n",
      "|       5|2022-07-13|Standard Class| Consumer|United States|Fort Lauderdale|   Florida|      33311| South|Office Supplies|     Storage|OFF-ST-10000760|        20|        20|       2|               5|           1.0|      19.0|  -1.0|\n",
      "+--------+----------+--------------+---------+-------------+---------------+----------+-----------+------+---------------+------------+---------------+----------+----------+--------+----------------+--------------+----------+------+\n",
      "only showing top 5 rows\n",
      "\n"
     ]
    }
   ],
   "source": [
    "dframe.show(5)"
   ]
  },
  {
   "cell_type": "markdown",
   "id": "928af12d-fc0e-487b-bbeb-3007d80306fb",
   "metadata": {},
   "source": [
    "### Adding File date"
   ]
  },
  {
   "cell_type": "code",
   "execution_count": 15,
   "id": "eeb8caad-695a-44ae-9cae-ec971d45573a",
   "metadata": {},
   "outputs": [],
   "source": [
    "dframe = dframe.withColumn('file_date',lit(date.today()))"
   ]
  },
  {
   "cell_type": "code",
   "execution_count": 16,
   "id": "fd83d786-435a-4743-8f62-048012ba93ae",
   "metadata": {},
   "outputs": [
    {
     "name": "stdout",
     "output_type": "stream",
     "text": [
      "+--------+----------+--------------+---------+-------------+---------------+----------+-----------+------+---------------+------------+---------------+----------+----------+--------+----------------+--------------+----------+------+----------+\n",
      "|order_id|order_date|     ship_mode|  segment|      country|           city|     state|postal_code|region|       category|sub_category|     product_id|cost_price|list_price|quantity|discount_percent|discount_given|sale_price|profit| file_date|\n",
      "+--------+----------+--------------+---------+-------------+---------------+----------+-----------+------+---------------+------------+---------------+----------+----------+--------+----------------+--------------+----------+------+----------+\n",
      "|       1|2023-03-01|  Second Class| Consumer|United States|      Henderson|  Kentucky|      42420| South|      Furniture|   Bookcases|FUR-BO-10001798|       240|       260|       2|               2|           5.2|     254.8|  14.8|2024-06-06|\n",
      "|       2|2023-08-15|  Second Class| Consumer|United States|      Henderson|  Kentucky|      42420| South|      Furniture|      Chairs|FUR-CH-10000454|       600|       730|       3|               3|          21.9|     708.1| 108.1|2024-06-06|\n",
      "|       3|2023-01-10|  Second Class|Corporate|United States|    Los Angeles|California|      90036|  West|Office Supplies|      Labels|OFF-LA-10000240|        10|        10|       2|               5|           0.5|       9.5|  -0.5|2024-06-06|\n",
      "|       4|2022-06-18|Standard Class| Consumer|United States|Fort Lauderdale|   Florida|      33311| South|      Furniture|      Tables|FUR-TA-10000577|       780|       960|       5|               2|          19.2|     940.8| 160.8|2024-06-06|\n",
      "|       5|2022-07-13|Standard Class| Consumer|United States|Fort Lauderdale|   Florida|      33311| South|Office Supplies|     Storage|OFF-ST-10000760|        20|        20|       2|               5|           1.0|      19.0|  -1.0|2024-06-06|\n",
      "+--------+----------+--------------+---------+-------------+---------------+----------+-----------+------+---------------+------------+---------------+----------+----------+--------+----------------+--------------+----------+------+----------+\n",
      "only showing top 5 rows\n",
      "\n"
     ]
    }
   ],
   "source": [
    "dframe.show(5)"
   ]
  },
  {
   "cell_type": "markdown",
   "id": "8194e1b0-6e9e-4691-87aa-1ce72e08002f",
   "metadata": {},
   "source": [
    "### converted orderdate to date type"
   ]
  },
  {
   "cell_type": "code",
   "execution_count": 17,
   "id": "6af1c67c-aa66-4db8-9431-c0dcdde82fc1",
   "metadata": {},
   "outputs": [],
   "source": [
    "dframe = dframe.withColumn('order_date', to_date(dframe['order_date'],'yyyy-MM-dd'))"
   ]
  },
  {
   "cell_type": "markdown",
   "id": "19c75e7a-dcb1-4871-b31d-ea1634afb039",
   "metadata": {},
   "source": [
    "### Dropping columns which is not required"
   ]
  },
  {
   "cell_type": "code",
   "execution_count": 18,
   "id": "bc6d1806-87ee-4a4d-8677-514d8d4035d5",
   "metadata": {},
   "outputs": [],
   "source": [
    "dframe = dframe.drop('cost_price','list_price','discount_percent')"
   ]
  },
  {
   "cell_type": "code",
   "execution_count": 19,
   "id": "1c414e69-3ea6-415a-8263-9dd30d5cc253",
   "metadata": {},
   "outputs": [
    {
     "name": "stdout",
     "output_type": "stream",
     "text": [
      "+--------+----------+--------------+---------+-------------+---------------+----------+-----------+------+---------------+------------+---------------+--------+--------------+----------+------+----------+\n",
      "|order_id|order_date|     ship_mode|  segment|      country|           city|     state|postal_code|region|       category|sub_category|     product_id|quantity|discount_given|sale_price|profit| file_date|\n",
      "+--------+----------+--------------+---------+-------------+---------------+----------+-----------+------+---------------+------------+---------------+--------+--------------+----------+------+----------+\n",
      "|       1|2023-03-01|  Second Class| Consumer|United States|      Henderson|  Kentucky|      42420| South|      Furniture|   Bookcases|FUR-BO-10001798|       2|           5.2|     254.8|  14.8|2024-06-06|\n",
      "|       2|2023-08-15|  Second Class| Consumer|United States|      Henderson|  Kentucky|      42420| South|      Furniture|      Chairs|FUR-CH-10000454|       3|          21.9|     708.1| 108.1|2024-06-06|\n",
      "|       3|2023-01-10|  Second Class|Corporate|United States|    Los Angeles|California|      90036|  West|Office Supplies|      Labels|OFF-LA-10000240|       2|           0.5|       9.5|  -0.5|2024-06-06|\n",
      "|       4|2022-06-18|Standard Class| Consumer|United States|Fort Lauderdale|   Florida|      33311| South|      Furniture|      Tables|FUR-TA-10000577|       5|          19.2|     940.8| 160.8|2024-06-06|\n",
      "|       5|2022-07-13|Standard Class| Consumer|United States|Fort Lauderdale|   Florida|      33311| South|Office Supplies|     Storage|OFF-ST-10000760|       2|           1.0|      19.0|  -1.0|2024-06-06|\n",
      "+--------+----------+--------------+---------+-------------+---------------+----------+-----------+------+---------------+------------+---------------+--------+--------------+----------+------+----------+\n",
      "only showing top 5 rows\n",
      "\n"
     ]
    }
   ],
   "source": [
    "dframe.show(5)"
   ]
  },
  {
   "cell_type": "markdown",
   "id": "c37e5fb3-828d-4474-9c2f-029c89bcc3d0",
   "metadata": {
    "editable": true,
    "slideshow": {
     "slide_type": ""
    },
    "tags": []
   },
   "source": [
    "## Connecting to SQL Server"
   ]
  },
  {
   "cell_type": "code",
   "execution_count": 23,
   "id": "63fb1f7e-e04c-4573-ba4c-39d0ca762e90",
   "metadata": {},
   "outputs": [],
   "source": [
    "dbinfo=spark.read.csv('C:/Users/Apromit/dbdetails.csv',header=True)"
   ]
  },
  {
   "cell_type": "code",
   "execution_count": 30,
   "id": "8fd51bea-93b6-4263-8508-d2502541b72a",
   "metadata": {},
   "outputs": [],
   "source": [
    "servername= dbinfo.collect()[0][0]\n",
    "dbname = dbinfo.collect()[0][1]"
   ]
  },
  {
   "cell_type": "code",
   "execution_count": 34,
   "id": "043b2222-c7ca-4974-8ad2-6fe0897a2e5f",
   "metadata": {},
   "outputs": [],
   "source": [
    "import sqlalchemy as sl\n",
    "\n",
    "db_engine = sl.create_engine(f'mssql://{servername}/{dbname}?driver=ODBC+DRIVER+17+FOR+SQL+SERVER')\n",
    "# \n",
    "conection=db_engine.connect()"
   ]
  },
  {
   "cell_type": "markdown",
   "id": "5e16ffa2-9739-4e66-b5a3-ed25aa6dfd62",
   "metadata": {},
   "source": [
    "### Converted Pyspark Dataframe to Pandas dataframe because of connectivity issues"
   ]
  },
  {
   "cell_type": "code",
   "execution_count": 35,
   "id": "85b6c9fa-02e2-4389-97a6-c4908a91531b",
   "metadata": {},
   "outputs": [],
   "source": [
    "pd_frame = dframe.toPandas()"
   ]
  },
  {
   "cell_type": "code",
   "execution_count": 36,
   "id": "847f130d-f32e-40c8-80d0-83b0c1542fd2",
   "metadata": {},
   "outputs": [
    {
     "data": {
      "text/plain": [
       "31"
      ]
     },
     "execution_count": 36,
     "metadata": {},
     "output_type": "execute_result"
    }
   ],
   "source": [
    "pd_frame.to_sql('asd', con=conection, index=False, if_exists='append')"
   ]
  },
  {
   "cell_type": "code",
   "execution_count": null,
   "id": "55e60ac7-a8cf-4180-804f-ca1f725d0674",
   "metadata": {},
   "outputs": [],
   "source": []
  }
 ],
 "metadata": {
  "kernelspec": {
   "display_name": "Python 3 (ipykernel)",
   "language": "python",
   "name": "python3"
  },
  "language_info": {
   "codemirror_mode": {
    "name": "ipython",
    "version": 3
   },
   "file_extension": ".py",
   "mimetype": "text/x-python",
   "name": "python",
   "nbconvert_exporter": "python",
   "pygments_lexer": "ipython3",
   "version": "3.11.9"
  }
 },
 "nbformat": 4,
 "nbformat_minor": 5
}
